{
 "cells": [
  {
   "cell_type": "code",
   "execution_count": 1,
   "id": "bd57a523-3657-4b05-a951-ece308167c28",
   "metadata": {},
   "outputs": [],
   "source": [
    "import jax\n",
    "from jax import vmap\n",
    "import jax.numpy as jnp"
   ]
  },
  {
   "cell_type": "code",
   "execution_count": 2,
   "id": "ddedffbe-fda9-42fb-9519-c781ef9dcc7b",
   "metadata": {},
   "outputs": [],
   "source": [
    "def f(x, y):\n",
    "    return jnp.array([[x[0], x[1]], [y[0], y[1]]])\n",
    "\n",
    "def f2(x, y):\n",
    "    return jnp.array([\n",
    "        [1000*x[0] + 100*x[1] + 10*x[0] + x[1], \n",
    "         1000*x[0] + 100*x[1] + 10*y[0] + y[1]],\n",
    "        [1000*y[0] + 100*y[1] + 10*x[0] + x[1], \n",
    "         1000*y[0] + 100*y[1] + 10*y[0] + y[1]],\n",
    "    ])\n",
    "\n",
    "def f3(x, y):\n",
    "    return jnp.array([\n",
    "        [1000 + 100*x + 10 + y, \n",
    "         1000 + 100*x + 20 + y],\n",
    "        [2000 + 100*x + 10 + y, \n",
    "         2000 + 100*x + 20 + y],\n",
    "    ])\n",
    "def gxf(x, y):\n",
    "    return jnp.array([\n",
    "        [100 + 10*x + y],  \n",
    "        [200 + 10*x + y]\n",
    "    ])\n",
    "def gfx(x, y):\n",
    "    return jnp.array([\n",
    "        100 * x + 10 + y, \n",
    "        100 * x + 20 + y\n",
    "    ])"
   ]
  },
  {
   "cell_type": "code",
   "execution_count": 3,
   "id": "0321c6fd-21d9-46da-8cc1-86e698d98346",
   "metadata": {},
   "outputs": [
    {
     "name": "stdout",
     "output_type": "stream",
     "text": [
      "ERROR! Session/line number was not unique in database. History logging moved to new session 2\n"
     ]
    }
   ],
   "source": [
    "x = jnp.array([1., 1.])\n",
    "y = jnp.array([2., 1.])"
   ]
  },
  {
   "cell_type": "code",
   "execution_count": 4,
   "id": "78028b27-0aa2-40d4-a01e-1187966dc9cd",
   "metadata": {},
   "outputs": [
    {
     "data": {
      "text/plain": [
       "Array([[1211, 1221],\n",
       "       [2211, 2221]], dtype=int32)"
      ]
     },
     "execution_count": 4,
     "metadata": {},
     "output_type": "execute_result"
    }
   ],
   "source": [
    "f3(2,1)"
   ]
  },
  {
   "cell_type": "markdown",
   "id": "b2249619-a24c-4ad1-bd4c-fa65293b87a8",
   "metadata": {},
   "source": [
    "# Testing `vmap`"
   ]
  },
  {
   "cell_type": "code",
   "execution_count": 5,
   "id": "a18f373e-95d5-41bc-8c1b-3c7209636c14",
   "metadata": {},
   "outputs": [],
   "source": [
    "#xx = jnp.arange(1., 11.).reshape(5,2)\n",
    "#yy = jnp.arange(3., 13.).reshape(5,2)\n",
    "\n",
    "# xx = jnp.array([\n",
    "#     [1, 1],\n",
    "#     [2, 1],\n",
    "#     [1, 2],\n",
    "#     [2, 2],\n",
    "#     [1, 3],\n",
    "#     [2, 3],\n",
    "#     [1, 4],\n",
    "#     [2, 4],\n",
    "# ])\n",
    "# yy = xx.copy()\n",
    "\n",
    "xx = jnp.arange(1, 1 + 5)\n",
    "yy = jnp.arange(1, 1 + 5)"
   ]
  },
  {
   "cell_type": "markdown",
   "id": "8aa2b46d-f911-472d-b92b-9655a726b3a5",
   "metadata": {},
   "source": [
    "## `f3` version: the Gram matrix"
   ]
  },
  {
   "cell_type": "code",
   "execution_count": 6,
   "id": "78fec0dc-3d97-4416-897a-82babd9780e9",
   "metadata": {},
   "outputs": [],
   "source": [
    "#fv3 = vmap(f3, in_axes=(0, None))\n",
    "fv3 = vmap(f3, in_axes=(0, None), out_axes=(0,2))"
   ]
  },
  {
   "cell_type": "code",
   "execution_count": 7,
   "id": "38767082-c49c-4f8b-a063-7e0734ae87aa",
   "metadata": {},
   "outputs": [
    {
     "name": "stdout",
     "output_type": "stream",
     "text": [
      "fv concatenated:\n",
      " [[1111 1121]\n",
      " [2111 2121]\n",
      " [1211 1221]\n",
      " [2211 2221]]\n",
      "fvv concatenated:\n",
      " [[1111 1112 1211 1212]\n",
      " [1121 1122 1221 1222]\n",
      " [2111 2112 2211 2212]\n",
      " [2121 2122 2221 2222]]\n"
     ]
    }
   ],
   "source": [
    "fv3 = vmap(f3, in_axes=(0, None), out_axes=0)\n",
    "fvv3 = vmap(fv3, in_axes=(None, 0), out_axes=0)\n",
    "#fvv3 = vmap(f3, in_axes=(0,0), out_axes=(0,0)) # This seems to work!\n",
    "#print(\"fv:\\n\", fv3(xx, 1))\n",
    "#print(\"fvv:\\n\", fvv3(xx, yy))\n",
    "print(\"fv concatenated:\\n\", jnp.concatenate(fv3(xx[:2], 1), 0))\n",
    "print(\"fvv concatenated:\\n\", jnp.concatenate(jnp.concatenate(fv3(xx[:2], yy[:2]), 2), 0))"
   ]
  },
  {
   "cell_type": "markdown",
   "id": "9afe96a4-c699-455a-a5de-1a45117007ad",
   "metadata": {},
   "source": [
    "## `gxf`/ `gfx` version: cross-covariances between function value predictions and derivative observations"
   ]
  },
  {
   "cell_type": "code",
   "execution_count": 69,
   "id": "13aab63a-499b-40c5-9a6a-c47224263131",
   "metadata": {},
   "outputs": [
    {
     "name": "stdout",
     "output_type": "stream",
     "text": [
      "gxfv:\n",
      " [[[[111. 121.]]\n",
      "\n",
      "  [[211. 221.]]]\n",
      "\n",
      "\n",
      " [[[131. 141.]]\n",
      "\n",
      "  [[231. 241.]]]]\n",
      "gfxv:\n",
      " [[[111. 211.]\n",
      "  [311. 411.]]\n",
      "\n",
      " [[121. 221.]\n",
      "  [321. 421.]]]\n",
      "gxfv concatenated:\n",
      " [[[111. 121.]]\n",
      "\n",
      " [[211. 221.]]\n",
      "\n",
      " [[131. 141.]]\n",
      "\n",
      " [[231. 241.]]]\n",
      "gfxv concatenated:\n",
      " [[111. 211.]\n",
      " [311. 411.]\n",
      " [121. 221.]\n",
      " [321. 421.]]\n"
     ]
    }
   ],
   "source": [
    "gxfv = vmap(gxf, (0, None), 0)\n",
    "gfxv = vmap(gfx, (0, None), 1)\n",
    "print(\"gxfv:\\n\", gxfv(xx[:2], 1))\n",
    "print(\"gfxv:\\n\", gfxv(xx[:2], 1))\n",
    "print(\"gxfv concatenated:\\n\", jnp.concatenate(gxfv(xx[:2], 1), 0))\n",
    "print(\"gfxv concatenated:\\n\", jnp.concatenate(gfxv(xx[:2], 1), 0))"
   ]
  },
  {
   "cell_type": "code",
   "execution_count": 70,
   "id": "662e1ca8-90be-45fa-a046-9e5d3562aa9a",
   "metadata": {},
   "outputs": [
    {
     "name": "stdout",
     "output_type": "stream",
     "text": [
      "gxfvv:\n",
      " [[[[[111. 122.]]\n",
      "\n",
      "   [[211. 222.]]]\n",
      "\n",
      "\n",
      "  [[[113. 124.]]\n",
      "\n",
      "   [[213. 224.]]]]\n",
      "\n",
      "\n",
      "\n",
      " [[[[131. 142.]]\n",
      "\n",
      "   [[231. 242.]]]\n",
      "\n",
      "\n",
      "  [[[133. 144.]]\n",
      "\n",
      "   [[233. 244.]]]]]\n",
      "gfxvv:\n",
      " [[[[111. 212.]\n",
      "   [311. 412.]]\n",
      "\n",
      "  [[113. 214.]\n",
      "   [313. 414.]]]\n",
      "\n",
      "\n",
      " [[[121. 222.]\n",
      "   [321. 422.]]\n",
      "\n",
      "  [[123. 224.]\n",
      "   [323. 424.]]]]\n",
      "gxfvv concatenated:\n",
      " [[[[111. 122.]]\n",
      "\n",
      "  [[211. 222.]]]\n",
      "\n",
      "\n",
      " [[[113. 124.]]\n",
      "\n",
      "  [[213. 224.]]]\n",
      "\n",
      "\n",
      " [[[131. 142.]]\n",
      "\n",
      "  [[231. 242.]]]\n",
      "\n",
      "\n",
      " [[[133. 144.]]\n",
      "\n",
      "  [[233. 244.]]]]\n",
      "gfxvv concatenated:\n",
      " [[[111. 212.]\n",
      "  [311. 412.]]\n",
      "\n",
      " [[113. 214.]\n",
      "  [313. 414.]]\n",
      "\n",
      " [[121. 222.]\n",
      "  [321. 422.]]\n",
      "\n",
      " [[123. 224.]\n",
      "  [323. 424.]]]\n"
     ]
    }
   ],
   "source": [
    "gxfvv = vmap(gxfv, (None, 0), 1)\n",
    "gfxvv = vmap(gfxv, (None, 0), 1)\n",
    "print(\"gxfvv:\\n\", gxfvv(xx[:2], yy[:2]))\n",
    "print(\"gfxvv:\\n\", gfxvv(xx[:2], yy[:2]))\n",
    "print(\"gxfvv concatenated:\\n\", jnp.concatenate(gxfvv(xx[:2], yy[:2]), 0))\n",
    "print(\"gfxvv concatenated:\\n\", jnp.concatenate(gfxvv(xx[:2], yy[:2]), 0))"
   ]
  },
  {
   "cell_type": "markdown",
   "id": "ba7b1f91-a35e-493e-b33d-a8751f24fa8c",
   "metadata": {},
   "source": [
    "## Older `gxf` test"
   ]
  },
  {
   "cell_type": "code",
   "execution_count": 71,
   "id": "0d9e19e8-6a8b-48b1-b6a0-0e85d9fabfa5",
   "metadata": {},
   "outputs": [
    {
     "name": "stdout",
     "output_type": "stream",
     "text": [
      "gxfv:\n",
      " [[[[111. 121.]]\n",
      "\n",
      "  [[211. 221.]]]\n",
      "\n",
      "\n",
      " [[[131. 141.]]\n",
      "\n",
      "  [[231. 241.]]]]\n"
     ]
    }
   ],
   "source": [
    "gxfv = vmap(gxf, (0, None), 0)\n",
    "gxfvv = vmap(gxfv, (None, 0), 1)\n",
    "print(\"gxfv:\\n\", gxfv(xx[:2], 1))"
   ]
  },
  {
   "cell_type": "code",
   "execution_count": 72,
   "id": "e61668ad-5cc5-47fc-be5a-163cd7444a8d",
   "metadata": {},
   "outputs": [
    {
     "data": {
      "text/plain": [
       "Array([[[1111., 1211.],\n",
       "        [1121., 1221.]],\n",
       "\n",
       "       [[2111., 2211.],\n",
       "        [2121., 2221.]],\n",
       "\n",
       "       [[1311., 1411.],\n",
       "        [1321., 1421.]],\n",
       "\n",
       "       [[2311., 2411.],\n",
       "        [2321., 2421.]]], dtype=float32)"
      ]
     },
     "execution_count": 72,
     "metadata": {},
     "output_type": "execute_result"
    }
   ],
   "source": [
    "jnp.concatenate(fv3(xx[:2], 1), 0)"
   ]
  },
  {
   "cell_type": "code",
   "execution_count": 73,
   "id": "38701e7e-69de-485a-b4d0-282045007ce2",
   "metadata": {},
   "outputs": [],
   "source": [
    "fvv3 = vmap(fv3, in_axes=(None, 0))"
   ]
  },
  {
   "cell_type": "code",
   "execution_count": 74,
   "id": "8c064b05-30ea-45df-95a8-c7baeea0b325",
   "metadata": {},
   "outputs": [],
   "source": [
    "t = fvv3(xx,yy)"
   ]
  },
  {
   "cell_type": "code",
   "execution_count": 75,
   "id": "7f480a7d-e58a-4170-8eb9-0721a1cd590a",
   "metadata": {},
   "outputs": [
    {
     "data": {
      "text/plain": [
       "Array([[[1111., 1212.],\n",
       "        [1121., 1222.],\n",
       "        [1113., 1214.],\n",
       "        [1123., 1224.],\n",
       "        [1115., 1216.],\n",
       "        [1125., 1226.],\n",
       "        [1117., 1218.],\n",
       "        [1127., 1228.],\n",
       "        [1119., 1220.],\n",
       "        [1129., 1230.]],\n",
       "\n",
       "       [[2111., 2212.],\n",
       "        [2121., 2222.],\n",
       "        [2113., 2214.],\n",
       "        [2123., 2224.],\n",
       "        [2115., 2216.],\n",
       "        [2125., 2226.],\n",
       "        [2117., 2218.],\n",
       "        [2127., 2228.],\n",
       "        [2119., 2220.],\n",
       "        [2129., 2230.]],\n",
       "\n",
       "       [[1311., 1412.],\n",
       "        [1321., 1422.],\n",
       "        [1313., 1414.],\n",
       "        [1323., 1424.],\n",
       "        [1315., 1416.],\n",
       "        [1325., 1426.],\n",
       "        [1317., 1418.],\n",
       "        [1327., 1428.],\n",
       "        [1319., 1420.],\n",
       "        [1329., 1430.]],\n",
       "\n",
       "       [[2311., 2412.],\n",
       "        [2321., 2422.],\n",
       "        [2313., 2414.],\n",
       "        [2323., 2424.],\n",
       "        [2315., 2416.],\n",
       "        [2325., 2426.],\n",
       "        [2317., 2418.],\n",
       "        [2327., 2428.],\n",
       "        [2319., 2420.],\n",
       "        [2329., 2430.]],\n",
       "\n",
       "       [[1511., 1612.],\n",
       "        [1521., 1622.],\n",
       "        [1513., 1614.],\n",
       "        [1523., 1624.],\n",
       "        [1515., 1616.],\n",
       "        [1525., 1626.],\n",
       "        [1517., 1618.],\n",
       "        [1527., 1628.],\n",
       "        [1519., 1620.],\n",
       "        [1529., 1630.]],\n",
       "\n",
       "       [[2511., 2612.],\n",
       "        [2521., 2622.],\n",
       "        [2513., 2614.],\n",
       "        [2523., 2624.],\n",
       "        [2515., 2616.],\n",
       "        [2525., 2626.],\n",
       "        [2517., 2618.],\n",
       "        [2527., 2628.],\n",
       "        [2519., 2620.],\n",
       "        [2529., 2630.]],\n",
       "\n",
       "       [[1711., 1812.],\n",
       "        [1721., 1822.],\n",
       "        [1713., 1814.],\n",
       "        [1723., 1824.],\n",
       "        [1715., 1816.],\n",
       "        [1725., 1826.],\n",
       "        [1717., 1818.],\n",
       "        [1727., 1828.],\n",
       "        [1719., 1820.],\n",
       "        [1729., 1830.]],\n",
       "\n",
       "       [[2711., 2812.],\n",
       "        [2721., 2822.],\n",
       "        [2713., 2814.],\n",
       "        [2723., 2824.],\n",
       "        [2715., 2816.],\n",
       "        [2725., 2826.],\n",
       "        [2717., 2818.],\n",
       "        [2727., 2828.],\n",
       "        [2719., 2820.],\n",
       "        [2729., 2830.]],\n",
       "\n",
       "       [[1911., 2012.],\n",
       "        [1921., 2022.],\n",
       "        [1913., 2014.],\n",
       "        [1923., 2024.],\n",
       "        [1915., 2016.],\n",
       "        [1925., 2026.],\n",
       "        [1917., 2018.],\n",
       "        [1927., 2028.],\n",
       "        [1919., 2020.],\n",
       "        [1929., 2030.]],\n",
       "\n",
       "       [[2911., 3012.],\n",
       "        [2921., 3022.],\n",
       "        [2913., 3014.],\n",
       "        [2923., 3024.],\n",
       "        [2915., 3016.],\n",
       "        [2925., 3026.],\n",
       "        [2917., 3018.],\n",
       "        [2927., 3028.],\n",
       "        [2919., 3020.],\n",
       "        [2929., 3030.]]], dtype=float32)"
      ]
     },
     "execution_count": 75,
     "metadata": {},
     "output_type": "execute_result"
    }
   ],
   "source": [
    "jnp.concatenate(jnp.concatenate(t, axis=2), axis=0)"
   ]
  },
  {
   "cell_type": "code",
   "execution_count": null,
   "id": "56fa7b56-0f34-4663-9098-3ff69056c122",
   "metadata": {},
   "outputs": [],
   "source": []
  },
  {
   "cell_type": "markdown",
   "id": "f9b606b5-43e3-4909-bc50-6d496833d64f",
   "metadata": {},
   "source": [
    "## Older tests with `reshape`"
   ]
  },
  {
   "cell_type": "code",
   "execution_count": 76,
   "id": "4156ef0a-fff4-48d7-b50b-147946742f30",
   "metadata": {},
   "outputs": [],
   "source": [
    "fv = vmap(f, in_axes=(0, None))"
   ]
  },
  {
   "cell_type": "code",
   "execution_count": 77,
   "id": "f9ba1d0b-a03a-4883-8ea5-7bf4745b5918",
   "metadata": {},
   "outputs": [
    {
     "data": {
      "text/plain": [
       "Array([[[ 1.,  2.],\n",
       "        [ 2.,  1.]],\n",
       "\n",
       "       [[ 3.,  4.],\n",
       "        [ 2.,  1.]],\n",
       "\n",
       "       [[ 5.,  6.],\n",
       "        [ 2.,  1.]],\n",
       "\n",
       "       [[ 7.,  8.],\n",
       "        [ 2.,  1.]],\n",
       "\n",
       "       [[ 9., 10.],\n",
       "        [ 2.,  1.]]], dtype=float32)"
      ]
     },
     "execution_count": 77,
     "metadata": {},
     "output_type": "execute_result"
    }
   ],
   "source": [
    "fv(xx, y)"
   ]
  },
  {
   "cell_type": "code",
   "execution_count": 78,
   "id": "6edf43bb-f47e-4d26-87f8-3386f423fa36",
   "metadata": {},
   "outputs": [],
   "source": [
    "fvv = vmap(fv, in_axes=(None, 0))"
   ]
  },
  {
   "cell_type": "code",
   "execution_count": 79,
   "id": "e5cbae01-a324-4260-8365-b06d903f4d93",
   "metadata": {},
   "outputs": [
    {
     "data": {
      "text/plain": [
       "(5, 5, 2, 2)"
      ]
     },
     "execution_count": 79,
     "metadata": {},
     "output_type": "execute_result"
    }
   ],
   "source": [
    "fvv(xx, yy).shape"
   ]
  },
  {
   "cell_type": "code",
   "execution_count": 80,
   "id": "0bab1c0c-1d2c-4699-891f-ee37d945ebf8",
   "metadata": {},
   "outputs": [
    {
     "data": {
      "text/plain": [
       "Array([[[[ 1.,  2.],\n",
       "         [ 1.,  2.]],\n",
       "\n",
       "        [[ 3.,  4.],\n",
       "         [ 1.,  2.]],\n",
       "\n",
       "        [[ 5.,  6.],\n",
       "         [ 1.,  2.]],\n",
       "\n",
       "        [[ 7.,  8.],\n",
       "         [ 1.,  2.]],\n",
       "\n",
       "        [[ 9., 10.],\n",
       "         [ 1.,  2.]]],\n",
       "\n",
       "\n",
       "       [[[ 1.,  2.],\n",
       "         [ 3.,  4.]],\n",
       "\n",
       "        [[ 3.,  4.],\n",
       "         [ 3.,  4.]],\n",
       "\n",
       "        [[ 5.,  6.],\n",
       "         [ 3.,  4.]],\n",
       "\n",
       "        [[ 7.,  8.],\n",
       "         [ 3.,  4.]],\n",
       "\n",
       "        [[ 9., 10.],\n",
       "         [ 3.,  4.]]],\n",
       "\n",
       "\n",
       "       [[[ 1.,  2.],\n",
       "         [ 5.,  6.]],\n",
       "\n",
       "        [[ 3.,  4.],\n",
       "         [ 5.,  6.]],\n",
       "\n",
       "        [[ 5.,  6.],\n",
       "         [ 5.,  6.]],\n",
       "\n",
       "        [[ 7.,  8.],\n",
       "         [ 5.,  6.]],\n",
       "\n",
       "        [[ 9., 10.],\n",
       "         [ 5.,  6.]]],\n",
       "\n",
       "\n",
       "       [[[ 1.,  2.],\n",
       "         [ 7.,  8.]],\n",
       "\n",
       "        [[ 3.,  4.],\n",
       "         [ 7.,  8.]],\n",
       "\n",
       "        [[ 5.,  6.],\n",
       "         [ 7.,  8.]],\n",
       "\n",
       "        [[ 7.,  8.],\n",
       "         [ 7.,  8.]],\n",
       "\n",
       "        [[ 9., 10.],\n",
       "         [ 7.,  8.]]],\n",
       "\n",
       "\n",
       "       [[[ 1.,  2.],\n",
       "         [ 9., 10.]],\n",
       "\n",
       "        [[ 3.,  4.],\n",
       "         [ 9., 10.]],\n",
       "\n",
       "        [[ 5.,  6.],\n",
       "         [ 9., 10.]],\n",
       "\n",
       "        [[ 7.,  8.],\n",
       "         [ 9., 10.]],\n",
       "\n",
       "        [[ 9., 10.],\n",
       "         [ 9., 10.]]]], dtype=float32)"
      ]
     },
     "execution_count": 80,
     "metadata": {},
     "output_type": "execute_result"
    }
   ],
   "source": [
    "fvv(xx, yy)"
   ]
  },
  {
   "cell_type": "code",
   "execution_count": 81,
   "id": "ec807f4d-c14d-48c4-aaba-fc94bf3f78fc",
   "metadata": {},
   "outputs": [
    {
     "data": {
      "text/plain": [
       "Array([[ 1.,  2.,  1.,  2.,  3.,  4.,  1.,  2.,  5.,  6.],\n",
       "       [ 1.,  2.,  7.,  8.,  1.,  2.,  9., 10.,  1.,  2.],\n",
       "       [ 1.,  2.,  3.,  4.,  3.,  4.,  3.,  4.,  5.,  6.],\n",
       "       [ 3.,  4.,  7.,  8.,  3.,  4.,  9., 10.,  3.,  4.],\n",
       "       [ 1.,  2.,  5.,  6.,  3.,  4.,  5.,  6.,  5.,  6.],\n",
       "       [ 5.,  6.,  7.,  8.,  5.,  6.,  9., 10.,  5.,  6.],\n",
       "       [ 1.,  2.,  7.,  8.,  3.,  4.,  7.,  8.,  5.,  6.],\n",
       "       [ 7.,  8.,  7.,  8.,  7.,  8.,  9., 10.,  7.,  8.],\n",
       "       [ 1.,  2.,  9., 10.,  3.,  4.,  9., 10.,  5.,  6.],\n",
       "       [ 9., 10.,  7.,  8.,  9., 10.,  9., 10.,  9., 10.]], dtype=float32)"
      ]
     },
     "execution_count": 81,
     "metadata": {},
     "output_type": "execute_result"
    }
   ],
   "source": [
    "fvv(xx, yy).reshape(10, 10)"
   ]
  },
  {
   "cell_type": "markdown",
   "id": "5cbef664-804c-44cb-8ac6-77d9b5472b41",
   "metadata": {},
   "source": [
    "# Understanding dimensions in `vmap` and `concatenate`"
   ]
  },
  {
   "cell_type": "markdown",
   "id": "e3d7a98c-5030-407f-99ce-9f7388f1f28a",
   "metadata": {},
   "source": [
    "## `vmap`"
   ]
  },
  {
   "cell_type": "code",
   "execution_count": 82,
   "id": "67f08a05-63e5-4501-b598-49dce81a0b54",
   "metadata": {},
   "outputs": [],
   "source": [
    "# Test data\n",
    "\n",
    "xx = jnp.arange(1, 1 + 5)\n",
    "yy = jnp.arange(1, 1 + 5)"
   ]
  },
  {
   "cell_type": "markdown",
   "id": "32ccb1fa-e75b-4fea-89af-3c5238b77506",
   "metadata": {},
   "source": [
    "`out_axes` is where the looped-over axies will be put:"
   ]
  },
  {
   "cell_type": "code",
   "execution_count": 83,
   "id": "582802a1-a0a4-4f23-b0da-325adee957a3",
   "metadata": {},
   "outputs": [
    {
     "name": "stdout",
     "output_type": "stream",
     "text": [
      "out_axes=0: (3, 2, 2)\n",
      "out_axes=1: (2, 3, 2)\n",
      "out_axes=2: (2, 2, 3)\n"
     ]
    }
   ],
   "source": [
    "for i in range(3):\n",
    "    print(f\"out_axes={i}:\", vmap(f3, in_axes=(0, None), out_axes=i)(xx[:3], 1).shape)"
   ]
  },
  {
   "cell_type": "markdown",
   "id": "0c764cb5-f1f2-4646-964d-f80f9a6639eb",
   "metadata": {},
   "source": [
    "And with the actual output:"
   ]
  },
  {
   "cell_type": "code",
   "execution_count": 84,
   "id": "f26a046c-a638-4115-bbb7-9156caeaf178",
   "metadata": {},
   "outputs": [
    {
     "name": "stdout",
     "output_type": "stream",
     "text": [
      "out_axes=0:\n",
      " [[[1111 1121]\n",
      "  [2111 2121]]\n",
      "\n",
      " [[1211 1221]\n",
      "  [2211 2221]]\n",
      "\n",
      " [[1311 1321]\n",
      "  [2311 2321]]]\n",
      "out_axes=1:\n",
      " [[[1111 1121]\n",
      "  [1211 1221]\n",
      "  [1311 1321]]\n",
      "\n",
      " [[2111 2121]\n",
      "  [2211 2221]\n",
      "  [2311 2321]]]\n",
      "out_axes=2:\n",
      " [[[1111 1211 1311]\n",
      "  [1121 1221 1321]]\n",
      "\n",
      " [[2111 2211 2311]\n",
      "  [2121 2221 2321]]]\n"
     ]
    }
   ],
   "source": [
    "for i in range(3):\n",
    "    print(f\"out_axes={i}:\\n\", vmap(f3, in_axes=(0, None), out_axes=i)(xx[:3], 1))"
   ]
  },
  {
   "cell_type": "markdown",
   "id": "4d8a6bb4-a967-4c9a-8b98-8bed1baa85f3",
   "metadata": {},
   "source": [
    "**Take-away:** For $k(x_i, x_j)$, we want $x_i$ to be mapped to the rows of the resulting matrix, and $x_j$ to the columns. The innermost `vmap` works on $x_i$, so we want this output to be put at axis 0 of the final matrix. The outermost `vmap` works on $x_j$, which should be put at axis 1 of the final matrix. Thus, this seems to be what we want:"
   ]
  },
  {
   "cell_type": "code",
   "execution_count": 93,
   "id": "ddd442f9-0627-4d08-afa8-07f4fb916fe7",
   "metadata": {},
   "outputs": [
    {
     "name": "stdout",
     "output_type": "stream",
     "text": [
      "fv shape: (3, 2, 2)\n",
      "fvv shape: (3, 4, 2, 2)\n",
      "fvv_a shape: (3, 4, 2, 2)\n"
     ]
    }
   ],
   "source": [
    "fv3 = vmap(f3, in_axes=(0, None), out_axes=0)\n",
    "fvv3 = vmap(fv3, in_axes=(None, 0), out_axes=1)\n",
    "\n",
    "fv_mat = fv3(xx[:3], 1)\n",
    "fvv_mat = fvv3(xx[:3], yy[:4])\n",
    "fvv_mat_a = vmap(lambda x: vmap(lambda y: f3(x,y))(yy[:4]))(xx[:3])\n",
    "\n",
    "print(\"fv shape:\", fv_mat.shape)\n",
    "print(\"fvv shape:\", fvv_mat.shape)\n",
    "print(\"fvv_a shape:\", fvv_mat_a.shape)"
   ]
  },
  {
   "cell_type": "code",
   "execution_count": 92,
   "id": "fe7a2049-45e4-4dbb-a37b-ab302f50c7fa",
   "metadata": {},
   "outputs": [
    {
     "data": {
      "text/plain": [
       "Array([[[[ True,  True],\n",
       "         [ True,  True]],\n",
       "\n",
       "        [[ True,  True],\n",
       "         [ True,  True]],\n",
       "\n",
       "        [[ True,  True],\n",
       "         [ True,  True]],\n",
       "\n",
       "        [[ True,  True],\n",
       "         [ True,  True]]],\n",
       "\n",
       "\n",
       "       [[[ True,  True],\n",
       "         [ True,  True]],\n",
       "\n",
       "        [[ True,  True],\n",
       "         [ True,  True]],\n",
       "\n",
       "        [[ True,  True],\n",
       "         [ True,  True]],\n",
       "\n",
       "        [[ True,  True],\n",
       "         [ True,  True]]],\n",
       "\n",
       "\n",
       "       [[[ True,  True],\n",
       "         [ True,  True]],\n",
       "\n",
       "        [[ True,  True],\n",
       "         [ True,  True]],\n",
       "\n",
       "        [[ True,  True],\n",
       "         [ True,  True]],\n",
       "\n",
       "        [[ True,  True],\n",
       "         [ True,  True]]]], dtype=bool)"
      ]
     },
     "execution_count": 92,
     "metadata": {},
     "output_type": "execute_result"
    }
   ],
   "source": [
    "fvv_mat == fvv_mat_a"
   ]
  },
  {
   "cell_type": "markdown",
   "id": "f3ea1949-eac5-4305-90e1-b4cca6e7bc02",
   "metadata": {},
   "source": [
    "### For constructing the cross-covariances"
   ]
  },
  {
   "cell_type": "markdown",
   "id": "9230c244-325b-46a4-ac59-fc32c82ae3db",
   "metadata": {},
   "source": [
    "#### Constructing $\\mathrm{cov}(y^m, \\omega^{i, n})$"
   ]
  },
  {
   "cell_type": "markdown",
   "id": "ca34fd4f-cc3e-4697-9417-0d5682dfc633",
   "metadata": {},
   "source": [
    "Looping over the `out_axes` for the block below the Gram matrix block (i.e., $\\mathrm{cov}(y^m, \\omega^{i, n}) = [\\mathrm{cov}(y^m, \\omega^{1, n})\\quad \\mathrm{cov}(y^m, \\omega^{2, n})]$):"
   ]
  },
  {
   "cell_type": "code",
   "execution_count": null,
   "id": "18967571-e312-43d2-8ec9-006ce9357660",
   "metadata": {},
   "outputs": [],
   "source": [
    "for i in range(2):\n",
    "    gfx_vec = vmap(gfx, in_axes=(None, 0), out_axes=i)(1, xx[:3])\n",
    "    print(f\"out_axes={i}: {gfx_vec.shape}\\n\", gfx_vec)"
   ]
  },
  {
   "cell_type": "markdown",
   "id": "a79a82f6-79e7-4118-a59b-6b62c5377255",
   "metadata": {},
   "source": [
    "As before, `out_axes=0` is what we want. \n",
    "\n",
    "Using the intuition from constructing the Gram matrix, we want the first input to the covariance function to be put at axis 0 and the second input to be put at axis 1. \n",
    "\n",
    "But this is incorrect! It has to be axis 0 both times, then a concatenation across axis 0 gives the right matrix."
   ]
  },
  {
   "cell_type": "code",
   "execution_count": null,
   "id": "16205412-c3e9-48b1-80f0-7bab4ddb01a3",
   "metadata": {},
   "outputs": [],
   "source": [
    "gfx_v = vmap(gfx, in_axes=(0, None), out_axes=0)\n",
    "gfx_vv = vmap(gfx_v, in_axes=(None, 0), out_axes=0)\n",
    "\n",
    "gfx_vec = gfx_vv(xx[:1], yy[:4])\n",
    "gfx_mat = gfx_vv(xx[:3], yy[:4])\n",
    "\n",
    "print(\"Vector shape:\", gfx_vec.shape)\n",
    "print(gfx_vec)\n",
    "print()\n",
    "print(\"Matrix shape:\", gfx_mat.shape)\n",
    "print(gfx_mat)\n",
    "print()"
   ]
  },
  {
   "cell_type": "markdown",
   "id": "d36a807d-bc16-4d26-b14f-51f67db92719",
   "metadata": {},
   "source": [
    "#### Constructing $\\mathrm{cov}(\\omega^{j, m}, y^m)$"
   ]
  },
  {
   "cell_type": "markdown",
   "id": "bf8f9abd-724e-4353-b3d5-b993750c25b2",
   "metadata": {},
   "source": [
    "Looping over the `out_axes` for the block to the right of the Gram matrix block (i.e., $\\mathrm{cov}(\\omega^{j, m}, y^n) = [\\mathrm{cov}(\\omega^{1, m}, y^n)\\quad \\mathrm{cov}(\\omega^{2, m}, y^n)]^\\top$):"
   ]
  },
  {
   "cell_type": "code",
   "execution_count": 9,
   "id": "58fdb88e-71fb-4b4f-ad60-83201fca5864",
   "metadata": {},
   "outputs": [
    {
     "name": "stdout",
     "output_type": "stream",
     "text": [
      "out_axes=0: (3, 2, 1)\n",
      " [[[111]\n",
      "  [211]]\n",
      "\n",
      " [[121]\n",
      "  [221]]\n",
      "\n",
      " [[131]\n",
      "  [231]]]\n",
      "out_axes=1: (2, 3, 1)\n",
      " [[[111]\n",
      "  [121]\n",
      "  [131]]\n",
      "\n",
      " [[211]\n",
      "  [221]\n",
      "  [231]]]\n"
     ]
    }
   ],
   "source": [
    "for i in range(2):\n",
    "    gxf_vec = vmap(gxf, in_axes=(0, None), out_axes=i)(xx[:3], 1)\n",
    "    print(f\"out_axes={i}: {gxf_vec.shape}\\n\", gxf_vec)"
   ]
  },
  {
   "cell_type": "code",
   "execution_count": 92,
   "id": "4257d7dd-bc2f-4ae0-928e-cbaaad989690",
   "metadata": {},
   "outputs": [
    {
     "name": "stdout",
     "output_type": "stream",
     "text": [
      "Vector shape: (4, 1, 2, 1)\n",
      "[[[[111]\n",
      "   [211]]]\n",
      "\n",
      "\n",
      " [[[112]\n",
      "   [212]]]\n",
      "\n",
      "\n",
      " [[[113]\n",
      "   [213]]]\n",
      "\n",
      "\n",
      " [[[114]\n",
      "   [214]]]]\n",
      "\n",
      "Matrix shape: (4, 3, 2, 1)\n",
      "[[[[111]\n",
      "   [211]]\n",
      "\n",
      "  [[121]\n",
      "   [221]]\n",
      "\n",
      "  [[131]\n",
      "   [231]]]\n",
      "\n",
      "\n",
      " [[[112]\n",
      "   [212]]\n",
      "\n",
      "  [[122]\n",
      "   [222]]\n",
      "\n",
      "  [[132]\n",
      "   [232]]]\n",
      "\n",
      "\n",
      " [[[113]\n",
      "   [213]]\n",
      "\n",
      "  [[123]\n",
      "   [223]]\n",
      "\n",
      "  [[133]\n",
      "   [233]]]\n",
      "\n",
      "\n",
      " [[[114]\n",
      "   [214]]\n",
      "\n",
      "  [[124]\n",
      "   [224]]\n",
      "\n",
      "  [[134]\n",
      "   [234]]]]\n",
      "\n"
     ]
    }
   ],
   "source": [
    "gxf_v = vmap(gxf, in_axes=(0, None), out_axes=0)\n",
    "gxf_vv = vmap(gxf_v, in_axes=(None, 0), out_axes=0)\n",
    "\n",
    "gxf_vec = gxf_vv(xx[:1], yy[:4])\n",
    "gxf_mat = gxf_vv(xx[:3], yy[:4])\n",
    "\n",
    "print(\"Vector shape:\", gxf_vec.shape)\n",
    "print(gxf_vec)\n",
    "print()\n",
    "print(\"Matrix shape:\", gxf_mat.shape)\n",
    "print(gxf_mat)\n",
    "print()"
   ]
  },
  {
   "cell_type": "markdown",
   "id": "51bc157d-14f6-4a03-9814-2cf5f7bb9eab",
   "metadata": {},
   "source": [
    "## `concatenate`"
   ]
  },
  {
   "cell_type": "markdown",
   "id": "f798eb67-b11f-4025-a6c6-c0baf8508ab6",
   "metadata": {},
   "source": [
    "### For a simple test matrix"
   ]
  },
  {
   "cell_type": "code",
   "execution_count": 7,
   "id": "570df411-7dc2-4d2b-85d6-4ce404fa4a0a",
   "metadata": {},
   "outputs": [
    {
     "data": {
      "text/plain": [
       "Array([[[ 0],\n",
       "        [ 1],\n",
       "        [ 2]],\n",
       "\n",
       "       [[ 3],\n",
       "        [ 4],\n",
       "        [ 5]],\n",
       "\n",
       "       [[ 6],\n",
       "        [ 7],\n",
       "        [ 8]],\n",
       "\n",
       "       [[ 9],\n",
       "        [10],\n",
       "        [11]],\n",
       "\n",
       "       [[12],\n",
       "        [13],\n",
       "        [14]]], dtype=int32)"
      ]
     },
     "execution_count": 7,
     "metadata": {},
     "output_type": "execute_result"
    }
   ],
   "source": [
    "a = jnp.arange(5*3).reshape(5,3,1)\n",
    "a"
   ]
  },
  {
   "cell_type": "code",
   "execution_count": 8,
   "id": "6d94fd7a-412a-44c8-b4be-f5618c71c27d",
   "metadata": {},
   "outputs": [
    {
     "name": "stdout",
     "output_type": "stream",
     "text": [
      "Test matrix `a` concatenated along axis=0: (15, 1)\n",
      " [[ 0]\n",
      " [ 1]\n",
      " [ 2]\n",
      " [ 3]\n",
      " [ 4]\n",
      " [ 5]\n",
      " [ 6]\n",
      " [ 7]\n",
      " [ 8]\n",
      " [ 9]\n",
      " [10]\n",
      " [11]\n",
      " [12]\n",
      " [13]\n",
      " [14]]\n",
      "Test matrix `a` concatenated along axis=1: (3, 5)\n",
      " [[ 0  3  6  9 12]\n",
      " [ 1  4  7 10 13]\n",
      " [ 2  5  8 11 14]]\n"
     ]
    }
   ],
   "source": [
    "for axis in range(2):\n",
    "    ac = jnp.concatenate(a, axis=axis)\n",
    "    print(f\"Test matrix `a` concatenated along axis={axis}: {ac.shape}\\n\", ac)"
   ]
  },
  {
   "cell_type": "markdown",
   "id": "fcd804d9-f5be-498b-956e-4c526759ee7a",
   "metadata": {},
   "source": [
    "For a more complex, though still simple matrix:"
   ]
  },
  {
   "cell_type": "code",
   "execution_count": 9,
   "id": "1596e5df-d99f-474e-94ea-d79a8a6c3380",
   "metadata": {},
   "outputs": [
    {
     "data": {
      "text/plain": [
       "Array([[[[ 0,  1],\n",
       "         [ 2,  3]],\n",
       "\n",
       "        [[ 4,  5],\n",
       "         [ 6,  7]],\n",
       "\n",
       "        [[ 8,  9],\n",
       "         [10, 11]]],\n",
       "\n",
       "\n",
       "       [[[12, 13],\n",
       "         [14, 15]],\n",
       "\n",
       "        [[16, 17],\n",
       "         [18, 19]],\n",
       "\n",
       "        [[20, 21],\n",
       "         [22, 23]]],\n",
       "\n",
       "\n",
       "       [[[24, 25],\n",
       "         [26, 27]],\n",
       "\n",
       "        [[28, 29],\n",
       "         [30, 31]],\n",
       "\n",
       "        [[32, 33],\n",
       "         [34, 35]]],\n",
       "\n",
       "\n",
       "       [[[36, 37],\n",
       "         [38, 39]],\n",
       "\n",
       "        [[40, 41],\n",
       "         [42, 43]],\n",
       "\n",
       "        [[44, 45],\n",
       "         [46, 47]]],\n",
       "\n",
       "\n",
       "       [[[48, 49],\n",
       "         [50, 51]],\n",
       "\n",
       "        [[52, 53],\n",
       "         [54, 55]],\n",
       "\n",
       "        [[56, 57],\n",
       "         [58, 59]]]], dtype=int32)"
      ]
     },
     "execution_count": 9,
     "metadata": {},
     "output_type": "execute_result"
    }
   ],
   "source": [
    "shape = (5,3,2,2)\n",
    "a = jnp.arange(jnp.prod(jnp.asarray(shape))).reshape(shape)\n",
    "a"
   ]
  },
  {
   "cell_type": "code",
   "execution_count": 10,
   "id": "0e56c6f3-443b-4fd6-afa2-66aed76a7d11",
   "metadata": {},
   "outputs": [
    {
     "name": "stdout",
     "output_type": "stream",
     "text": [
      "Test matrix `a` concatenated along axis=0: (15, 2, 2)\n",
      " [[[ 0  1]\n",
      "  [ 2  3]]\n",
      "\n",
      " [[ 4  5]\n",
      "  [ 6  7]]\n",
      "\n",
      " [[ 8  9]\n",
      "  [10 11]]\n",
      "\n",
      " [[12 13]\n",
      "  [14 15]]\n",
      "\n",
      " [[16 17]\n",
      "  [18 19]]\n",
      "\n",
      " [[20 21]\n",
      "  [22 23]]\n",
      "\n",
      " [[24 25]\n",
      "  [26 27]]\n",
      "\n",
      " [[28 29]\n",
      "  [30 31]]\n",
      "\n",
      " [[32 33]\n",
      "  [34 35]]\n",
      "\n",
      " [[36 37]\n",
      "  [38 39]]\n",
      "\n",
      " [[40 41]\n",
      "  [42 43]]\n",
      "\n",
      " [[44 45]\n",
      "  [46 47]]\n",
      "\n",
      " [[48 49]\n",
      "  [50 51]]\n",
      "\n",
      " [[52 53]\n",
      "  [54 55]]\n",
      "\n",
      " [[56 57]\n",
      "  [58 59]]]\n",
      "Test matrix `a` concatenated along axis=1: (3, 10, 2)\n",
      " [[[ 0  1]\n",
      "  [ 2  3]\n",
      "  [12 13]\n",
      "  [14 15]\n",
      "  [24 25]\n",
      "  [26 27]\n",
      "  [36 37]\n",
      "  [38 39]\n",
      "  [48 49]\n",
      "  [50 51]]\n",
      "\n",
      " [[ 4  5]\n",
      "  [ 6  7]\n",
      "  [16 17]\n",
      "  [18 19]\n",
      "  [28 29]\n",
      "  [30 31]\n",
      "  [40 41]\n",
      "  [42 43]\n",
      "  [52 53]\n",
      "  [54 55]]\n",
      "\n",
      " [[ 8  9]\n",
      "  [10 11]\n",
      "  [20 21]\n",
      "  [22 23]\n",
      "  [32 33]\n",
      "  [34 35]\n",
      "  [44 45]\n",
      "  [46 47]\n",
      "  [56 57]\n",
      "  [58 59]]]\n",
      "Test matrix `a` concatenated along axis=2: (3, 2, 10)\n",
      " [[[ 0  1 12 13 24 25 36 37 48 49]\n",
      "  [ 2  3 14 15 26 27 38 39 50 51]]\n",
      "\n",
      " [[ 4  5 16 17 28 29 40 41 52 53]\n",
      "  [ 6  7 18 19 30 31 42 43 54 55]]\n",
      "\n",
      " [[ 8  9 20 21 32 33 44 45 56 57]\n",
      "  [10 11 22 23 34 35 46 47 58 59]]]\n"
     ]
    }
   ],
   "source": [
    "for axis in range(3):\n",
    "    ac = jnp.concatenate(a, axis=axis)\n",
    "    print(f\"Test matrix `a` concatenated along axis={axis}: {ac.shape}\\n\", ac)"
   ]
  },
  {
   "cell_type": "code",
   "execution_count": 18,
   "id": "a30880dc-abe6-443e-be47-d4978a57ba33",
   "metadata": {},
   "outputs": [
    {
     "name": "stdout",
     "output_type": "stream",
     "text": [
      "\n",
      "(5, 3, 2, 2) -- 0 --> (15, 2, 2) -- 0 --> (30, 2)\n",
      "[[ 0  1]\n",
      " [ 2  3]\n",
      " [ 4  5]\n",
      " [ 6  7]\n",
      " [ 8  9]\n",
      " [10 11]\n",
      " [12 13]\n",
      " [14 15]\n",
      " [16 17]\n",
      " [18 19]\n",
      " [20 21]\n",
      " [22 23]\n",
      " [24 25]\n",
      " [26 27]\n",
      " [28 29]\n",
      " [30 31]\n",
      " [32 33]\n",
      " [34 35]\n",
      " [36 37]\n",
      " [38 39]\n",
      " [40 41]\n",
      " [42 43]\n",
      " [44 45]\n",
      " [46 47]\n",
      " [48 49]\n",
      " [50 51]\n",
      " [52 53]\n",
      " [54 55]\n",
      " [56 57]\n",
      " [58 59]]\n",
      "\n",
      "(5, 3, 2, 2) -- 0 --> (15, 2, 2) -- 1 --> (2, 30)\n",
      "[[ 0  1  4  5  8  9 12 13 16 17 20 21 24 25 28 29 32 33 36 37 40 41 44 45\n",
      "  48 49 52 53 56 57]\n",
      " [ 2  3  6  7 10 11 14 15 18 19 22 23 26 27 30 31 34 35 38 39 42 43 46 47\n",
      "  50 51 54 55 58 59]]\n",
      "\n",
      "(5, 3, 2, 2) -- 1 --> (3, 10, 2) -- 0 --> (30, 2)\n",
      "[[ 0  1]\n",
      " [ 2  3]\n",
      " [12 13]\n",
      " [14 15]\n",
      " [24 25]\n",
      " [26 27]\n",
      " [36 37]\n",
      " [38 39]\n",
      " [48 49]\n",
      " [50 51]\n",
      " [ 4  5]\n",
      " [ 6  7]\n",
      " [16 17]\n",
      " [18 19]\n",
      " [28 29]\n",
      " [30 31]\n",
      " [40 41]\n",
      " [42 43]\n",
      " [52 53]\n",
      " [54 55]\n",
      " [ 8  9]\n",
      " [10 11]\n",
      " [20 21]\n",
      " [22 23]\n",
      " [32 33]\n",
      " [34 35]\n",
      " [44 45]\n",
      " [46 47]\n",
      " [56 57]\n",
      " [58 59]]\n",
      "\n",
      "(5, 3, 2, 2) -- 1 --> (3, 10, 2) -- 1 --> (10, 6)\n",
      "[[ 0  1  4  5  8  9]\n",
      " [ 2  3  6  7 10 11]\n",
      " [12 13 16 17 20 21]\n",
      " [14 15 18 19 22 23]\n",
      " [24 25 28 29 32 33]\n",
      " [26 27 30 31 34 35]\n",
      " [36 37 40 41 44 45]\n",
      " [38 39 42 43 46 47]\n",
      " [48 49 52 53 56 57]\n",
      " [50 51 54 55 58 59]]\n",
      "\n",
      "(5, 3, 2, 2) -- 2 --> (3, 2, 10) -- 0 --> (6, 10)\n",
      "[[ 0  1 12 13 24 25 36 37 48 49]\n",
      " [ 2  3 14 15 26 27 38 39 50 51]\n",
      " [ 4  5 16 17 28 29 40 41 52 53]\n",
      " [ 6  7 18 19 30 31 42 43 54 55]\n",
      " [ 8  9 20 21 32 33 44 45 56 57]\n",
      " [10 11 22 23 34 35 46 47 58 59]]\n",
      "\n",
      "(5, 3, 2, 2) -- 2 --> (3, 2, 10) -- 1 --> (2, 30)\n",
      "[[ 0  1 12 13 24 25 36 37 48 49  4  5 16 17 28 29 40 41 52 53  8  9 20 21\n",
      "  32 33 44 45 56 57]\n",
      " [ 2  3 14 15 26 27 38 39 50 51  6  7 18 19 30 31 42 43 54 55 10 11 22 23\n",
      "  34 35 46 47 58 59]]\n"
     ]
    }
   ],
   "source": [
    "for i in range(3):\n",
    "    for j in range(2):\n",
    "        #ac = jnp.concatenate(jnp.moveaxis(a, 1, 2), axis=i)\n",
    "        ac = jnp.concatenate(a, axis=i)\n",
    "        acc = jnp.concatenate(ac, axis=j)\n",
    "        #print(f\"Test matrix `a` concatenated along axis={i} (shape {ac.shape}), then axis={j} (shape {acc.shape}): \\n\", acc)\n",
    "        \n",
    "        print()\n",
    "        print(f\"{a.shape} -- {i} --> {ac.shape} -- {j} --> {acc.shape}\")\n",
    "        print(acc)"
   ]
  },
  {
   "cell_type": "markdown",
   "id": "db1fc7d3-d0ad-4a86-9760-4dbac6db6cef",
   "metadata": {},
   "source": [
    "**Take-away:** Our original matrix was of shape `(5, 3, 2, 2)`, which means we would like the resulting matrix to be `(5*2, 3*2) = (10, 6)`. Based on this, we should concatenate first along 1, then along 1 again.\n",
    "\n",
    "But why? It seems like concatenating along axis $i$ somehow merges axis 0 with $i+1$. I am probably not understanding the layout of arrays."
   ]
  },
  {
   "cell_type": "markdown",
   "id": "6a5400bf-d379-4e15-9920-55049c53792d",
   "metadata": {},
   "source": [
    "### For tensors of the `fvv_mat` form"
   ]
  },
  {
   "cell_type": "code",
   "execution_count": 19,
   "id": "d15c6408-d9c9-4524-af68-152047dcf6de",
   "metadata": {},
   "outputs": [
    {
     "name": "stdout",
     "output_type": "stream",
     "text": [
      "fvv matrix (3, 4, 2, 2) concatenated along axis=0: (12, 2, 2)\n",
      "fvv matrix (3, 4, 2, 2) concatenated along axis=1: (4, 6, 2)\n",
      "fvv matrix (3, 4, 2, 2) concatenated along axis=2: (4, 2, 6)\n"
     ]
    }
   ],
   "source": [
    "for axis in range(3):\n",
    "    print(f\"fvv matrix {fvv_mat.shape} concatenated along axis={axis}:\", jnp.concatenate(fvv_mat, axis=axis).shape)"
   ]
  },
  {
   "cell_type": "code",
   "execution_count": 13,
   "id": "72240cdb-dbd4-44b0-af32-6b926be33a8f",
   "metadata": {},
   "outputs": [
    {
     "name": "stdout",
     "output_type": "stream",
     "text": [
      "fvv concatenated once:\n",
      " [[[1111 1121]\n",
      "  [2111 2121]\n",
      "  [1211 1221]\n",
      "  [2211 2221]\n",
      "  [1311 1321]\n",
      "  [2311 2321]]\n",
      "\n",
      " [[1112 1122]\n",
      "  [2112 2122]\n",
      "  [1212 1222]\n",
      "  [2212 2222]\n",
      "  [1312 1322]\n",
      "  [2312 2322]]\n",
      "\n",
      " [[1113 1123]\n",
      "  [2113 2123]\n",
      "  [1213 1223]\n",
      "  [2213 2223]\n",
      "  [1313 1323]\n",
      "  [2313 2323]]\n",
      "\n",
      " [[1114 1124]\n",
      "  [2114 2124]\n",
      "  [1214 1224]\n",
      "  [2214 2224]\n",
      "  [1314 1324]\n",
      "  [2314 2324]]]\n",
      "fvv concatenated twice:\n",
      " [[1111 1121 1112 1122 1113 1123 1114 1124]\n",
      " [2111 2121 2112 2122 2113 2123 2114 2124]\n",
      " [1211 1221 1212 1222 1213 1223 1214 1224]\n",
      " [2211 2221 2212 2222 2213 2223 2214 2224]\n",
      " [1311 1321 1312 1322 1313 1323 1314 1324]\n",
      " [2311 2321 2312 2322 2313 2323 2314 2324]]\n"
     ]
    }
   ],
   "source": [
    "print(\"fvv concatenated once:\\n\", jnp.concatenate(fvv_mat, axis=1))\n",
    "print(\"fvv concatenated twice:\\n\", jnp.concatenate(jnp.concatenate(fvv_mat, axis=1), axis=1))"
   ]
  },
  {
   "cell_type": "code",
   "execution_count": 14,
   "id": "f27f41f4-d005-4f5c-b58d-174da3fa70a2",
   "metadata": {},
   "outputs": [
    {
     "data": {
      "text/plain": [
       "Array([[[[1111, 1121],\n",
       "         [2111, 2121]],\n",
       "\n",
       "        [[1112, 1122],\n",
       "         [2112, 2122]],\n",
       "\n",
       "        [[1113, 1123],\n",
       "         [2113, 2123]],\n",
       "\n",
       "        [[1114, 1124],\n",
       "         [2114, 2124]]],\n",
       "\n",
       "\n",
       "       [[[1211, 1221],\n",
       "         [2211, 2221]],\n",
       "\n",
       "        [[1212, 1222],\n",
       "         [2212, 2222]],\n",
       "\n",
       "        [[1213, 1223],\n",
       "         [2213, 2223]],\n",
       "\n",
       "        [[1214, 1224],\n",
       "         [2214, 2224]]],\n",
       "\n",
       "\n",
       "       [[[1311, 1321],\n",
       "         [2311, 2321]],\n",
       "\n",
       "        [[1312, 1322],\n",
       "         [2312, 2322]],\n",
       "\n",
       "        [[1313, 1323],\n",
       "         [2313, 2323]],\n",
       "\n",
       "        [[1314, 1324],\n",
       "         [2314, 2324]]]], dtype=int32)"
      ]
     },
     "execution_count": 14,
     "metadata": {},
     "output_type": "execute_result"
    }
   ],
   "source": [
    "fvv_mat"
   ]
  },
  {
   "cell_type": "markdown",
   "id": "a6e397d6-84aa-49c4-9600-8a006788ac8f",
   "metadata": {},
   "source": [
    "### For the cross-covariances between the derivative observations and function values"
   ]
  },
  {
   "cell_type": "markdown",
   "id": "447e4440-cf0e-4644-bce9-58c582842a3b",
   "metadata": {},
   "source": [
    "#### For the block below the Gram matrix"
   ]
  },
  {
   "cell_type": "code",
   "execution_count": 85,
   "id": "1480f200-0665-4959-b6b6-1568df64b269",
   "metadata": {},
   "outputs": [
    {
     "name": "stdout",
     "output_type": "stream",
     "text": [
      "\n",
      "(4, 3, 2) -- 0 --> (12, 2)\n",
      "[[111 121]\n",
      " [211 221]\n",
      " [311 321]\n",
      " [112 122]\n",
      " [212 222]\n",
      " [312 322]\n",
      " [113 123]\n",
      " [213 223]\n",
      " [313 323]\n",
      " [114 124]\n",
      " [214 224]\n",
      " [314 324]]\n",
      "\n",
      "(4, 3, 2) -- 1 --> (3, 8)\n",
      "[[111 121 112 122 113 123 114 124]\n",
      " [211 221 212 222 213 223 214 224]\n",
      " [311 321 312 322 313 323 314 324]]\n"
     ]
    }
   ],
   "source": [
    "for i in range(2):\n",
    "    gfx_mat_c = jnp.concatenate(gfx_mat, axis=i)\n",
    "    \n",
    "    print()\n",
    "    print(f\"{gfx_mat.shape} -- {i} --> {gfx_mat_c.shape}\")\n",
    "    print(gfx_mat_c)"
   ]
  },
  {
   "cell_type": "code",
   "execution_count": 86,
   "id": "0a1cf09b-4a3b-4669-b98b-9b5f86145b8a",
   "metadata": {},
   "outputs": [
    {
     "name": "stdout",
     "output_type": "stream",
     "text": [
      "\n",
      "(4, 1, 2) -- 0 --> (4, 2)\n",
      "[[111 121]\n",
      " [112 122]\n",
      " [113 123]\n",
      " [114 124]]\n",
      "\n",
      "(4, 1, 2) -- 1 --> (1, 8)\n",
      "[[111 121 112 122 113 123 114 124]]\n"
     ]
    }
   ],
   "source": [
    "for i in range(2):\n",
    "    gfx_vec_c = jnp.concatenate(gfx_vec, axis=i)\n",
    "    \n",
    "    print()\n",
    "    print(f\"{gfx_vec.shape} -- {i} --> {gfx_vec_c.shape}\")\n",
    "    print(gfx_vec_c)"
   ]
  },
  {
   "cell_type": "markdown",
   "id": "20ee029a-e3b0-477a-9002-23192e7208a8",
   "metadata": {},
   "source": [
    "#### For the block to the right of the Gram matrix"
   ]
  },
  {
   "cell_type": "code",
   "execution_count": 94,
   "id": "b6d8a1e9-13bc-4513-a8d6-a3a4a8094e5c",
   "metadata": {},
   "outputs": [
    {
     "name": "stdout",
     "output_type": "stream",
     "text": [
      "\n",
      "(4, 3, 2, 1) -- 0 --> (12, 2, 1)\n",
      "[[[111]\n",
      "  [211]]\n",
      "\n",
      " [[121]\n",
      "  [221]]\n",
      "\n",
      " [[131]\n",
      "  [231]]\n",
      "\n",
      " [[112]\n",
      "  [212]]\n",
      "\n",
      " [[122]\n",
      "  [222]]\n",
      "\n",
      " [[132]\n",
      "  [232]]\n",
      "\n",
      " [[113]\n",
      "  [213]]\n",
      "\n",
      " [[123]\n",
      "  [223]]\n",
      "\n",
      " [[133]\n",
      "  [233]]\n",
      "\n",
      " [[114]\n",
      "  [214]]\n",
      "\n",
      " [[124]\n",
      "  [224]]\n",
      "\n",
      " [[134]\n",
      "  [234]]]\n",
      "\n",
      "(4, 3, 2, 1) -- 1 --> (3, 8, 1)\n",
      "[[[111]\n",
      "  [211]\n",
      "  [112]\n",
      "  [212]\n",
      "  [113]\n",
      "  [213]\n",
      "  [114]\n",
      "  [214]]\n",
      "\n",
      " [[121]\n",
      "  [221]\n",
      "  [122]\n",
      "  [222]\n",
      "  [123]\n",
      "  [223]\n",
      "  [124]\n",
      "  [224]]\n",
      "\n",
      " [[131]\n",
      "  [231]\n",
      "  [132]\n",
      "  [232]\n",
      "  [133]\n",
      "  [233]\n",
      "  [134]\n",
      "  [234]]]\n"
     ]
    }
   ],
   "source": [
    "for i in range(2):\n",
    "    gxf_mat_c = jnp.concatenate(gxf_mat, axis=i)\n",
    "    \n",
    "    print()\n",
    "    print(f\"{gxf_mat.shape} -- {i} --> {gxf_mat_c.shape}\")\n",
    "    print(gxf_mat_c)"
   ]
  },
  {
   "cell_type": "code",
   "execution_count": 95,
   "id": "4fb2573a-0d53-4722-bec0-e1b42f9b5bfe",
   "metadata": {},
   "outputs": [
    {
     "name": "stdout",
     "output_type": "stream",
     "text": [
      "\n",
      "(4, 1, 2, 1) -- 0 --> (4, 2, 1)\n",
      "[[[111]\n",
      "  [211]]\n",
      "\n",
      " [[112]\n",
      "  [212]]\n",
      "\n",
      " [[113]\n",
      "  [213]]\n",
      "\n",
      " [[114]\n",
      "  [214]]]\n",
      "\n",
      "(4, 1, 2, 1) -- 1 --> (1, 8, 1)\n",
      "[[[111]\n",
      "  [211]\n",
      "  [112]\n",
      "  [212]\n",
      "  [113]\n",
      "  [213]\n",
      "  [114]\n",
      "  [214]]]\n"
     ]
    }
   ],
   "source": [
    "for i in range(2):\n",
    "    gxf_vec_c = jnp.concatenate(gxf_vec, axis=i)\n",
    "    \n",
    "    print()\n",
    "    print(f\"{gxf_vec.shape} -- {i} --> {gxf_vec_c.shape}\")\n",
    "    print(gxf_vec_c)"
   ]
  },
  {
   "cell_type": "markdown",
   "id": "6552c437-e7ac-4972-8457-41bb9e3af249",
   "metadata": {},
   "source": [
    "## `reshape`"
   ]
  },
  {
   "cell_type": "markdown",
   "id": "ea82a192-34c1-4673-b80d-04cee0ca3f5e",
   "metadata": {},
   "source": [
    "**Take-away:** I don't think this can be done."
   ]
  },
  {
   "cell_type": "markdown",
   "id": "71c5e3fb-e0fb-4864-9710-14c252f4d0ec",
   "metadata": {},
   "source": [
    "Back to the simpler 4D array:"
   ]
  },
  {
   "cell_type": "code",
   "execution_count": 20,
   "id": "462dd19b-d25f-4c0c-b26c-9abddadace91",
   "metadata": {},
   "outputs": [
    {
     "data": {
      "text/plain": [
       "Array([[[[ 0,  1],\n",
       "         [ 2,  3]],\n",
       "\n",
       "        [[ 4,  5],\n",
       "         [ 6,  7]],\n",
       "\n",
       "        [[ 8,  9],\n",
       "         [10, 11]]],\n",
       "\n",
       "\n",
       "       [[[12, 13],\n",
       "         [14, 15]],\n",
       "\n",
       "        [[16, 17],\n",
       "         [18, 19]],\n",
       "\n",
       "        [[20, 21],\n",
       "         [22, 23]]],\n",
       "\n",
       "\n",
       "       [[[24, 25],\n",
       "         [26, 27]],\n",
       "\n",
       "        [[28, 29],\n",
       "         [30, 31]],\n",
       "\n",
       "        [[32, 33],\n",
       "         [34, 35]]],\n",
       "\n",
       "\n",
       "       [[[36, 37],\n",
       "         [38, 39]],\n",
       "\n",
       "        [[40, 41],\n",
       "         [42, 43]],\n",
       "\n",
       "        [[44, 45],\n",
       "         [46, 47]]],\n",
       "\n",
       "\n",
       "       [[[48, 49],\n",
       "         [50, 51]],\n",
       "\n",
       "        [[52, 53],\n",
       "         [54, 55]],\n",
       "\n",
       "        [[56, 57],\n",
       "         [58, 59]]]], dtype=int32)"
      ]
     },
     "execution_count": 20,
     "metadata": {},
     "output_type": "execute_result"
    }
   ],
   "source": [
    "shape = (5,3,2,2)\n",
    "a = jnp.arange(jnp.prod(jnp.asarray(shape))).reshape(shape)\n",
    "a"
   ]
  },
  {
   "cell_type": "code",
   "execution_count": 30,
   "id": "7c5bfc02-3bb4-4062-81ac-9c0dd395e99c",
   "metadata": {},
   "outputs": [
    {
     "name": "stdout",
     "output_type": "stream",
     "text": [
      "[[[ 0  1]\n",
      "  [ 2  3]\n",
      "  [ 4  5]\n",
      "  [ 6  7]\n",
      "  [ 8  9]\n",
      "  [10 11]\n",
      "  [12 13]\n",
      "  [14 15]\n",
      "  [16 17]\n",
      "  [18 19]]\n",
      "\n",
      " [[20 21]\n",
      "  [22 23]\n",
      "  [24 25]\n",
      "  [26 27]\n",
      "  [28 29]\n",
      "  [30 31]\n",
      "  [32 33]\n",
      "  [34 35]\n",
      "  [36 37]\n",
      "  [38 39]]\n",
      "\n",
      " [[40 41]\n",
      "  [42 43]\n",
      "  [44 45]\n",
      "  [46 47]\n",
      "  [48 49]\n",
      "  [50 51]\n",
      "  [52 53]\n",
      "  [54 55]\n",
      "  [56 57]\n",
      "  [58 59]]]\n"
     ]
    }
   ],
   "source": [
    "#print(a.reshape(15, 2, 2)) # Corresponds to concatenation along axis 0\n",
    "print(a.reshape(3, 10, 2)) # Does NOT orrespond to concatenation along axis 1\n",
    "#print(a.reshape(3, 2, 10)) # Does NOT correspond to concatenation along axis 2"
   ]
  },
  {
   "cell_type": "code",
   "execution_count": 33,
   "id": "04fa802e-2aea-4753-9f62-29884450c29a",
   "metadata": {},
   "outputs": [
    {
     "name": "stdout",
     "output_type": "stream",
     "text": [
      "[[ 0  1  2  3  4  5]\n",
      " [ 6  7  8  9 10 11]\n",
      " [12 13 14 15 16 17]\n",
      " [18 19 20 21 22 23]\n",
      " [24 25 26 27 28 29]\n",
      " [30 31 32 33 34 35]\n",
      " [36 37 38 39 40 41]\n",
      " [42 43 44 45 46 47]\n",
      " [48 49 50 51 52 53]\n",
      " [54 55 56 57 58 59]]\n"
     ]
    }
   ],
   "source": [
    "print(a.reshape(3, 10, 2).reshape(10,6))"
   ]
  },
  {
   "cell_type": "code",
   "execution_count": 36,
   "id": "14bd411b-a963-406b-9133-3e7491c6a52f",
   "metadata": {},
   "outputs": [
    {
     "name": "stdout",
     "output_type": "stream",
     "text": [
      "[[[ 0  1]\n",
      "  [ 2  3]\n",
      "  [ 4  5]\n",
      "  [ 6  7]\n",
      "  [ 8  9]\n",
      "  [10 11]\n",
      "  [12 13]\n",
      "  [14 15]\n",
      "  [16 17]\n",
      "  [18 19]]\n",
      "\n",
      " [[20 21]\n",
      "  [22 23]\n",
      "  [24 25]\n",
      "  [26 27]\n",
      "  [28 29]\n",
      "  [30 31]\n",
      "  [32 33]\n",
      "  [34 35]\n",
      "  [36 37]\n",
      "  [38 39]]\n",
      "\n",
      " [[40 41]\n",
      "  [42 43]\n",
      "  [44 45]\n",
      "  [46 47]\n",
      "  [48 49]\n",
      "  [50 51]\n",
      "  [52 53]\n",
      "  [54 55]\n",
      "  [56 57]\n",
      "  [58 59]]]\n"
     ]
    }
   ],
   "source": [
    "print(a.reshape(3,10,2).)"
   ]
  },
  {
   "cell_type": "markdown",
   "id": "ada090f1-ae98-4cb2-ad72-a99d516c09d0",
   "metadata": {},
   "source": [
    "# Testing an actual covariance function for derivative information"
   ]
  },
  {
   "cell_type": "code",
   "execution_count": 94,
   "id": "33044ce2-255e-421d-b8a3-7bfff74c0c89",
   "metadata": {},
   "outputs": [],
   "source": [
    "def eq(lengthscale, variance):\n",
    "    \"The exponentiated quadratic covariance function.\"\n",
    "\n",
    "    def k(x, y):\n",
    "        return variance * jnp.exp(-0.5 * jnp.sum(((x - y) / lengthscale) ** 2))\n",
    "\n",
    "    return k\n",
    "\n",
    "# The lazy way by GPJax:\n",
    "def cov_matrix(kernel, x, y):\n",
    "    K = jax.vmap(lambda x: jax.vmap(lambda y: kernel(x, y))(y))(x)\n",
    "    return K\n"
   ]
  },
  {
   "cell_type": "code",
   "execution_count": 96,
   "id": "5eea5a6c-4e9a-469b-8873-6baecfac5a2f",
   "metadata": {},
   "outputs": [],
   "source": [
    "# Test data\n",
    "\n",
    "xx = jnp.arange(1., 1. + 5 * 2).reshape(5,2)\n",
    "yy = jnp.arange(1., 1. + 5 * 2).reshape(5,2)"
   ]
  },
  {
   "cell_type": "markdown",
   "id": "e0784e18-3f5c-4d1b-8b79-b0351ef81aea",
   "metadata": {},
   "source": [
    "## The Gram matrix"
   ]
  },
  {
   "cell_type": "code",
   "execution_count": 97,
   "id": "47eb1307-16f5-4549-876b-dce3ff4d111b",
   "metadata": {},
   "outputs": [],
   "source": [
    "k = eq(1, 1)\n",
    "d2dxdy = jax.jacfwd(jax.jacrev(k, argnums=0), argnums=1)"
   ]
  },
  {
   "cell_type": "code",
   "execution_count": 98,
   "id": "93d2b932-92b4-45dc-8e39-7fdc960eecd8",
   "metadata": {},
   "outputs": [
    {
     "data": {
      "text/plain": [
       "Array([[1., 0.],\n",
       "       [0., 1.]], dtype=float32)"
      ]
     },
     "execution_count": 98,
     "metadata": {},
     "output_type": "execute_result"
    }
   ],
   "source": [
    "d2dxdy(xx[0], yy[0])"
   ]
  },
  {
   "cell_type": "code",
   "execution_count": 99,
   "id": "ba2af729-bbc7-4c82-bccd-c6819e1ac0b8",
   "metadata": {},
   "outputs": [
    {
     "name": "stdout",
     "output_type": "stream",
     "text": [
      "(5, 5, 2, 2)\n",
      "(10, 10)\n"
     ]
    }
   ],
   "source": [
    "d2dxdy_cov = vmap(\n",
    "    vmap(d2dxdy, in_axes=(0, None), out_axes=0),\n",
    "    in_axes=(None, 0), out_axes=1\n",
    ")\n",
    "\n",
    "d2dxdy_mat_a = d2dxdy_cov(xx, yy)\n",
    "d2dxdy_mat_b = cov_matrix(d2dxdy, xx, yy)\n",
    "\n",
    "print(d2dxdy_cov(xx, yy).shape)\n",
    "\n",
    "print(jnp.concatenate(jnp.concatenate(d2dxdy_cov(xx, yy), axis=1), axis=1).shape)"
   ]
  },
  {
   "cell_type": "code",
   "execution_count": 100,
   "id": "e626bda2-d272-46fd-89e0-6796b5c5d0bd",
   "metadata": {},
   "outputs": [
    {
     "data": {
      "text/plain": [
       "Array(True, dtype=bool)"
      ]
     },
     "execution_count": 100,
     "metadata": {},
     "output_type": "execute_result"
    }
   ],
   "source": [
    "jnp.allclose(d2dxdy_mat_a, d2dxdy_mat_b)"
   ]
  },
  {
   "cell_type": "markdown",
   "id": "40a6e1e7-20fc-4474-adb7-049ee67d5a0a",
   "metadata": {},
   "source": [
    "## The cross-covariances"
   ]
  },
  {
   "cell_type": "code",
   "execution_count": 107,
   "id": "9443238e-401b-48df-886e-1c5f7ca72428",
   "metadata": {},
   "outputs": [
    {
     "name": "stdout",
     "output_type": "stream",
     "text": [
      "(5, 2, 1)\n",
      "(5, 1, 2)\n",
      "(10, 1)\n",
      "(2, 5)\n"
     ]
    },
    {
     "data": {
      "text/plain": [
       "(1, 10)"
      ]
     },
     "execution_count": 107,
     "metadata": {},
     "output_type": "execute_result"
    }
   ],
   "source": [
    "ddx = jax.jacfwd(k, argnums=0)\n",
    "ddy = jax.jacfwd(k, argnums=1)\n",
    "\n",
    "# To the right of the Gram matrix:\n",
    "ddx_cov = vmap(\n",
    "    vmap(ddx, in_axes=(0, None), out_axes=0),\n",
    "    in_axes=(None, 0), out_axes=2\n",
    ")\n",
    "# below the Gram matrix:\n",
    "ddy_cov = vmap(\n",
    "    vmap(ddy, in_axes=(0, None), out_axes=0),\n",
    "    in_axes=(None, 0), out_axes=0\n",
    ")\n",
    "\n",
    "ddx_mat = ddx_cov(xx, yy[:1])\n",
    "ddy_mat = ddy_cov(xx[:1], yy)\n",
    "\n",
    "ddx_mat_b = cov_matrix(ddx, xx, yy[:1])\n",
    "ddy_mat_b = cov_matrix(ddy, xx[:1], yy)\n",
    "\n",
    "print(ddx_mat.shape)\n",
    "print(ddy_mat.shape)\n",
    "\n",
    "ddx_c = jnp.concatenate(ddx_mat, axis=0)\n",
    "ddy_c = jnp.concatenate(ddy_mat, axis=1)\n",
    "\n",
    "print(jnp.concatenate(ddx_mat, axis=0).shape)\n",
    "print(jnp.concatenate(ddx_mat, axis=1).shape)\n",
    "jnp.concatenate(ddy_mat, axis=1).shape"
   ]
  },
  {
   "cell_type": "code",
   "execution_count": 108,
   "id": "fa1f5316-6552-4436-8ed6-dd37c25544ec",
   "metadata": {},
   "outputs": [
    {
     "name": "stdout",
     "output_type": "stream",
     "text": [
      "True\n",
      "False\n"
     ]
    }
   ],
   "source": [
    "print(jnp.allclose(ddx_mat, ddx_mat_b))\n",
    "print(jnp.allclose(ddy_mat, ddy_mat_b))"
   ]
  },
  {
   "cell_type": "code",
   "execution_count": 115,
   "id": "fc76da79-bc60-422b-a3ca-9f701b8f5cc4",
   "metadata": {},
   "outputs": [
    {
     "name": "stdout",
     "output_type": "stream",
     "text": [
      "[[-0.00000000e+00 -0.00000000e+00 -3.66312787e-02 -3.66312787e-02\n",
      "  -4.50140703e-07 -4.50140703e-07 -1.39171367e-15 -1.39171367e-15\n",
      "  -1.28304875e-27 -1.28304875e-27]]\n"
     ]
    }
   ],
   "source": [
    "print(jnp.concatenate(ddy_mat, axis=1))"
   ]
  },
  {
   "cell_type": "code",
   "execution_count": 121,
   "id": "359051b9-0737-42c8-8f39-92db7a661832",
   "metadata": {},
   "outputs": [
    {
     "name": "stdout",
     "output_type": "stream",
     "text": [
      "[[-0.00000000e+00 -0.00000000e+00]\n",
      " [-3.66312787e-02 -3.66312787e-02]\n",
      " [-4.50140703e-07 -4.50140703e-07]\n",
      " [-1.39171367e-15 -1.39171367e-15]\n",
      " [-1.28304875e-27 -1.28304875e-27]]\n"
     ]
    }
   ],
   "source": [
    "print(jnp.concatenate(ddy_mat_b, axis=1))"
   ]
  },
  {
   "cell_type": "code",
   "execution_count": 118,
   "id": "70fbaeef-3556-4a80-b791-2b3b016c7ce1",
   "metadata": {},
   "outputs": [
    {
     "data": {
      "text/plain": [
       "Array([[-0.00000000e+00],\n",
       "       [-0.00000000e+00],\n",
       "       [-3.66312787e-02],\n",
       "       [-3.66312787e-02],\n",
       "       [-4.50140703e-07],\n",
       "       [-4.50140703e-07],\n",
       "       [-1.39171367e-15],\n",
       "       [-1.39171367e-15],\n",
       "       [-1.28304875e-27],\n",
       "       [-1.28304875e-27]], dtype=float32)"
      ]
     },
     "execution_count": 118,
     "metadata": {},
     "output_type": "execute_result"
    }
   ],
   "source": [
    "ddx_mat\n",
    "jnp.concatenate(ddx_mat, axis=0)"
   ]
  },
  {
   "cell_type": "code",
   "execution_count": 47,
   "id": "b97e3fc1-71df-4d4f-9c98-575b46df4d61",
   "metadata": {},
   "outputs": [
    {
     "data": {
      "text/plain": [
       "Array([[-0.00000000e+00, -0.00000000e+00, -3.66312787e-02,\n",
       "        -3.66312787e-02, -4.50140703e-07, -4.50140703e-07,\n",
       "        -1.39171367e-15, -1.39171367e-15, -1.28304875e-27,\n",
       "        -1.28304875e-27]], dtype=float32)"
      ]
     },
     "execution_count": 47,
     "metadata": {},
     "output_type": "execute_result"
    }
   ],
   "source": [
    "ddy_mat\n",
    "jnp.concatenate(ddy_mat, axis=1)"
   ]
  },
  {
   "cell_type": "code",
   "execution_count": 43,
   "id": "d7534390-316f-40cd-9dd0-467078c82cef",
   "metadata": {},
   "outputs": [
    {
     "data": {
      "text/plain": [
       "Array([[ True,  True,  True,  True,  True,  True,  True,  True,  True,\n",
       "         True],\n",
       "       [ True,  True,  True,  True,  True,  True,  True,  True,  True,\n",
       "         True],\n",
       "       [ True,  True,  True,  True,  True,  True,  True,  True,  True,\n",
       "         True]], dtype=bool)"
      ]
     },
     "execution_count": 43,
     "metadata": {},
     "output_type": "execute_result"
    }
   ],
   "source": [
    "ddx_c.T == ddy_c"
   ]
  },
  {
   "cell_type": "code",
   "execution_count": 61,
   "id": "10741187-0d18-4d80-9548-aa2585eb827a",
   "metadata": {},
   "outputs": [
    {
     "data": {
      "text/plain": [
       "Array([[1.],\n",
       "       [3.],\n",
       "       [5.],\n",
       "       [7.],\n",
       "       [9.]], dtype=float32)"
      ]
     },
     "execution_count": 61,
     "metadata": {},
     "output_type": "execute_result"
    }
   ],
   "source": [
    "xx[:, :1].ravel()[:,None]"
   ]
  },
  {
   "cell_type": "code",
   "execution_count": 63,
   "id": "8aa26cc5-7fb6-45f2-83dd-822d8198b423",
   "metadata": {},
   "outputs": [
    {
     "data": {
      "text/plain": [
       "Array([[1.],\n",
       "       [3.],\n",
       "       [5.],\n",
       "       [7.],\n",
       "       [9.]], dtype=float32)"
      ]
     },
     "execution_count": 63,
     "metadata": {},
     "output_type": "execute_result"
    }
   ],
   "source": [
    "jnp.atleast_2d(xx[:, :1].ravel()).T"
   ]
  },
  {
   "cell_type": "code",
   "execution_count": 68,
   "id": "117086ee-112c-48df-89c9-789b31d73797",
   "metadata": {},
   "outputs": [
    {
     "data": {
      "text/plain": [
       "Array([[1.0000000e+00, 1.3533528e-01, 3.3546262e-04, 1.5229979e-08,\n",
       "        1.2664166e-14],\n",
       "       [1.3533528e-01, 1.0000000e+00, 1.3533528e-01, 3.3546262e-04,\n",
       "        1.5229979e-08],\n",
       "       [3.3546262e-04, 1.3533528e-01, 1.0000000e+00, 1.3533528e-01,\n",
       "        3.3546262e-04],\n",
       "       [1.5229979e-08, 3.3546262e-04, 1.3533528e-01, 1.0000000e+00,\n",
       "        1.3533528e-01],\n",
       "       [1.2664166e-14, 1.5229979e-08, 3.3546262e-04, 1.3533528e-01,\n",
       "        1.0000000e+00]], dtype=float32)"
      ]
     },
     "execution_count": 68,
     "metadata": {},
     "output_type": "execute_result"
    }
   ],
   "source": [
    "k = eq(1, 1)\n",
    "vmap(lambda x: vmap(lambda y: k(x, y))(yy[:, :1]))(xx[:, :1])"
   ]
  },
  {
   "cell_type": "code",
   "execution_count": null,
   "id": "66baa985-b0ae-44ca-b2e9-82ddadd5a737",
   "metadata": {},
   "outputs": [],
   "source": [
    "vmap(vmap(k))"
   ]
  },
  {
   "cell_type": "markdown",
   "id": "17681438-5f8b-4dfe-8884-ff105b4cd63c",
   "metadata": {},
   "source": []
  }
 ],
 "metadata": {
  "kernelspec": {
   "display_name": "GPs_for_derivatives",
   "language": "python",
   "name": "gps_for_derivatives"
  },
  "language_info": {
   "codemirror_mode": {
    "name": "ipython",
    "version": 3
   },
   "file_extension": ".py",
   "mimetype": "text/x-python",
   "name": "python",
   "nbconvert_exporter": "python",
   "pygments_lexer": "ipython3",
   "version": "3.12.3"
  }
 },
 "nbformat": 4,
 "nbformat_minor": 5
}
